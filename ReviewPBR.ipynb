{
 "cells": [
  {
   "cell_type": "code",
   "execution_count": 23,
   "metadata": {},
   "outputs": [],
   "source": [
    "import matplotlib.pyplot as plt\n",
    "from sklearn.model_selection import train_test_split\n",
    "from sklearn.model_selection import KFold\n",
    "import pandas as pd\n",
    "import numpy as np\n",
    "import nltk  \n",
    "import numpy as np  \n",
    "import random  \n",
    "import string\n",
    "import re\n",
    "from itertools import repeat\n",
    "from keras.models import Sequential\n",
    "from keras.layers import Dense\n",
    "import keras"
   ]
  },
  {
   "cell_type": "code",
   "execution_count": 24,
   "metadata": {},
   "outputs": [
    {
     "data": {
      "text/html": [
       "<div>\n",
       "<style scoped>\n",
       "    .dataframe tbody tr th:only-of-type {\n",
       "        vertical-align: middle;\n",
       "    }\n",
       "\n",
       "    .dataframe tbody tr th {\n",
       "        vertical-align: top;\n",
       "    }\n",
       "\n",
       "    .dataframe thead th {\n",
       "        text-align: right;\n",
       "    }\n",
       "</style>\n",
       "<table border=\"1\" class=\"dataframe\">\n",
       "  <thead>\n",
       "    <tr style=\"text-align: right;\">\n",
       "      <th></th>\n",
       "      <th>0</th>\n",
       "    </tr>\n",
       "  </thead>\n",
       "  <tbody>\n",
       "    <tr>\n",
       "      <td>0</td>\n",
       "      <td>1</td>\n",
       "    </tr>\n",
       "    <tr>\n",
       "      <td>1</td>\n",
       "      <td>0</td>\n",
       "    </tr>\n",
       "    <tr>\n",
       "      <td>2</td>\n",
       "      <td>0</td>\n",
       "    </tr>\n",
       "    <tr>\n",
       "      <td>3</td>\n",
       "      <td>0</td>\n",
       "    </tr>\n",
       "    <tr>\n",
       "      <td>4</td>\n",
       "      <td>0</td>\n",
       "    </tr>\n",
       "  </tbody>\n",
       "</table>\n",
       "</div>"
      ],
      "text/plain": [
       "   0\n",
       "0  1\n",
       "1  0\n",
       "2  0\n",
       "3  0\n",
       "4  0"
      ]
     },
     "execution_count": 24,
     "metadata": {},
     "output_type": "execute_result"
    }
   ],
   "source": [
    "df = pd.DataFrame()\n",
    "df  = pd.read_csv('labels_imperium_all.csv',encoding='utf-8',header=None)\n",
    "labels = df[0]\n",
    "df.head()"
   ]
  },
  {
   "cell_type": "code",
   "execution_count": 25,
   "metadata": {},
   "outputs": [
    {
     "data": {
      "text/html": [
       "<div>\n",
       "<style scoped>\n",
       "    .dataframe tbody tr th:only-of-type {\n",
       "        vertical-align: middle;\n",
       "    }\n",
       "\n",
       "    .dataframe tbody tr th {\n",
       "        vertical-align: top;\n",
       "    }\n",
       "\n",
       "    .dataframe thead th {\n",
       "        text-align: right;\n",
       "    }\n",
       "</style>\n",
       "<table border=\"1\" class=\"dataframe\">\n",
       "  <thead>\n",
       "    <tr style=\"text-align: right;\">\n",
       "      <th></th>\n",
       "      <th>0</th>\n",
       "    </tr>\n",
       "  </thead>\n",
       "  <tbody>\n",
       "    <tr>\n",
       "      <td>0</td>\n",
       "      <td>\"You fuck your dad.\"</td>\n",
       "    </tr>\n",
       "    <tr>\n",
       "      <td>1</td>\n",
       "      <td>\"i really don't understand your point.\\xa0 It ...</td>\n",
       "    </tr>\n",
       "    <tr>\n",
       "      <td>2</td>\n",
       "      <td>\"A\\\\xc2\\\\xa0majority of Canadians can and has ...</td>\n",
       "    </tr>\n",
       "    <tr>\n",
       "      <td>3</td>\n",
       "      <td>\"listen if you dont wanna get married to a man...</td>\n",
       "    </tr>\n",
       "    <tr>\n",
       "      <td>4</td>\n",
       "      <td>\"C\\xe1c b\\u1ea1n xu\\u1ed1ng \\u0111\\u01b0\\u1edd...</td>\n",
       "    </tr>\n",
       "  </tbody>\n",
       "</table>\n",
       "</div>"
      ],
      "text/plain": [
       "                                                   0\n",
       "0                               \"You fuck your dad.\"\n",
       "1  \"i really don't understand your point.\\xa0 It ...\n",
       "2  \"A\\\\xc2\\\\xa0majority of Canadians can and has ...\n",
       "3  \"listen if you dont wanna get married to a man...\n",
       "4  \"C\\xe1c b\\u1ea1n xu\\u1ed1ng \\u0111\\u01b0\\u1edd..."
      ]
     },
     "execution_count": 25,
     "metadata": {},
     "output_type": "execute_result"
    }
   ],
   "source": [
    "df = pd.DataFrame()\n",
    "df  = pd.read_csv('imperium_txts_all.csv',encoding='utf-8',header=None)\n",
    "df.head()"
   ]
  },
  {
   "cell_type": "code",
   "execution_count": 26,
   "metadata": {},
   "outputs": [
    {
     "name": "stdout",
     "output_type": "stream",
     "text": [
      "\"You fuck your dad.\"\n",
      "Ther are : 8829  0: ['you', 'fuck', 'your', 'dad']\n"
     ]
    }
   ],
   "source": [
    "documents = df[0]\n",
    "print(documents[0])\n",
    "# lower case\n",
    "documents = documents.str.lower() \n",
    "# remove punctuation\n",
    "documents = documents.str.replace('[^\\w\\s]','') \n",
    "documents = documents.values.tolist()\n",
    "for i in range(len(documents )):\n",
    "    # tokenize\n",
    "    documents [i] = nltk.word_tokenize(documents [i])\n",
    "    # remove blanck spaces\n",
    "    documents [i] = [re.sub(r'\\W',' ',word) for word in documents [i] ]\n",
    "print(\"Ther are :\",len(documents),\" 0:\", documents[0])"
   ]
  },
  {
   "cell_type": "code",
   "execution_count": 27,
   "metadata": {},
   "outputs": [],
   "source": [
    "# After our pre-processing, there are not mpty documents"
   ]
  },
  {
   "cell_type": "code",
   "execution_count": 28,
   "metadata": {},
   "outputs": [
    {
     "name": "stdout",
     "output_type": "stream",
     "text": [
      "Ther are : 30675  unique words\n"
     ]
    }
   ],
   "source": [
    "wordfreq = {}\n",
    "for sentence in documents:\n",
    "    for token in sentence:\n",
    "        if token not in wordfreq.keys():\n",
    "            wordfreq[token] = 1\n",
    "        else:\n",
    "            wordfreq[token] += 1\n",
    "print(\"Ther are :\",len(wordfreq),\" unique words\")"
   ]
  },
  {
   "cell_type": "code",
   "execution_count": 29,
   "metadata": {},
   "outputs": [
    {
     "name": "stdout",
     "output_type": "stream",
     "text": [
      "[  4  15  64 ...   8  52 188]\n"
     ]
    }
   ],
   "source": [
    "# Use vectorize function of numpy \n",
    "length_checker = np.vectorize(len) \n",
    "  \n",
    "# Find the length of each element \n",
    "documents_length = length_checker(documents) \n",
    "  \n",
    "# Print the length of each element \n",
    "print(documents_length) "
   ]
  },
  {
   "cell_type": "code",
   "execution_count": 30,
   "metadata": {},
   "outputs": [
    {
     "name": "stdout",
     "output_type": "stream",
     "text": [
      "Ther are : 4110  unique words\n"
     ]
    }
   ],
   "source": [
    "# List of keys to be deleted from dictionary\n",
    "selectedKeys = list() \n",
    " \n",
    "# Iterate over the dict and put to be deleted keys in the list\n",
    "for (key, value) in wordfreq.items():\n",
    "    if value < 5:\n",
    "        selectedKeys.append(key)\n",
    "    if len(key) < 3:\n",
    "        selectedKeys.append(key)\n",
    "    if len(key) > 30:\n",
    "        selectedKeys.append(key)\n",
    " \n",
    "# Iterate over the list and delete corresponding key from dictionary\n",
    "for key in selectedKeys:\n",
    "    if key in wordfreq:\n",
    "        del wordfreq[key]\n",
    "print(\"Ther are :\",len(wordfreq),\" unique words\")"
   ]
  },
  {
   "cell_type": "code",
   "execution_count": 31,
   "metadata": {},
   "outputs": [
    {
     "name": "stdout",
     "output_type": "stream",
     "text": [
      "504\n"
     ]
    }
   ],
   "source": [
    "# Saving each unique word index\n",
    "word_idx = {}\n",
    "idx = 0\n",
    "for token in wordfreq:\n",
    "    word_idx[token] =  idx\n",
    "    idx += 1\n",
    "print(word_idx['boy'])"
   ]
  },
  {
   "cell_type": "code",
   "execution_count": 32,
   "metadata": {},
   "outputs": [],
   "source": [
    "sentence_vectors = []\n",
    "for sentence in documents:\n",
    "    sent_vec = []\n",
    "    for token in wordfreq:\n",
    "        if token in sentence:\n",
    "            df = sentence.count(token)\n",
    "            sent_vec.append(df)\n",
    "        else:\n",
    "            sent_vec.append(0)\n",
    "    sentence_vectors.append(sent_vec)"
   ]
  },
  {
   "cell_type": "code",
   "execution_count": 34,
   "metadata": {},
   "outputs": [
    {
     "name": "stdout",
     "output_type": "stream",
     "text": [
      "Matrix of dimension: ( 8829 , 4110 )\n"
     ]
    }
   ],
   "source": [
    "sentence_vectors = np.asarray(sentence_vectors)\n",
    "print(\"Matrix of dimension: (\",sentence_vectors.shape[0],\",\",sentence_vectors.shape[1],\")\")"
   ]
  },
  {
   "cell_type": "code",
   "execution_count": 35,
   "metadata": {},
   "outputs": [
    {
     "name": "stdout",
     "output_type": "stream",
     "text": [
      "71\n"
     ]
    }
   ],
   "source": [
    "i = 0\n",
    "a = 0\n",
    "for row in sentence_vectors:\n",
    "    if np.count_nonzero(row) == 0:\n",
    "       # print(documents[i])\n",
    "        a += 1\n",
    "    i += 1\n",
    "print(a)\n",
    "# There are 71 documetns emptys"
   ]
  },
  {
   "cell_type": "code",
   "execution_count": 36,
   "metadata": {},
   "outputs": [
    {
     "name": "stdout",
     "output_type": "stream",
     "text": [
      "Maximum document longitu (may include not present terms):  2299\n",
      "2299\n"
     ]
    }
   ],
   "source": [
    "# Identifying the document with more terms, docs include terns not present in sentence_vectors\n",
    "maxlen_doc = []\n",
    "for doc in documents:\n",
    "    maxlen_doc.append(len(doc))\n",
    "print(\"Maximum document longitu (may include not present terms): \",max(maxlen_doc))  \n",
    "print(max(documents_length))\n",
    "maxlen_doc = (max(documents_length))"
   ]
  },
  {
   "cell_type": "code",
   "execution_count": 37,
   "metadata": {},
   "outputs": [
    {
     "name": "stdout",
     "output_type": "stream",
     "text": [
      "Matrix of dimension: ( 8829 , 2299 )\n"
     ]
    }
   ],
   "source": [
    "# We need to separete this in sTrain and Stest, we need to be careful to mantein the index in the training fase\n",
    "num_docs = sentence_vectors.shape[0]\n",
    "#maximum = []\n",
    "idx_matriz = np.zeros((num_docs, maxlen_doc)) # idx_matriz represents \"stest\" in Matlab\n",
    "row = 0\n",
    "for doc in documents:\n",
    "    # If tern not in dicc, add '0'\n",
    "    doc_inx = [ word_idx[x] if x in word_idx else 0 for x in doc] \n",
    "    doc_inx.extend(repeat(0, maxlen_doc - len(doc_inx)))  # Here we are padding, but it is NOT necessary\n",
    "    idx_matriz[row] = (doc_inx)\n",
    "    row += 1\n",
    "    # Like this ingnore those words tht are not in dic : doc_inx = [wordfreq[x] for x in doc if x in wordfreq]\n",
    "    #maximum.append(len(doc_inx))\n",
    "print(\"Matrix of dimension: (\",idx_matriz.shape[0],\",\",idx_matriz.shape[1],\")\")\n",
    "# This is a matrix where each doc word is representa it by their indx , 0 is word not in dicc"
   ]
  },
  {
   "cell_type": "code",
   "execution_count": 38,
   "metadata": {},
   "outputs": [
    {
     "name": "stdout",
     "output_type": "stream",
     "text": [
      "(6622, 4110)\n",
      "(6622,)\n",
      "(2207, 4110)\n",
      "(2207,)\n",
      "(6622, 2299)\n",
      "(2207, 2299)\n"
     ]
    }
   ],
   "source": [
    "#X_train = sentence_vectors[:6182]\n",
    "#X_test  = sentence_vectors[6182:]\n",
    "#Y_train = labels[:6182]\n",
    "#Y_test  = labels[6182:]\n",
    "#X_train, X_test, Y_train, Y_test = train_test_split(sentence_vectors, labels, test_size=0.3, random_state=42)\n",
    "kf = KFold(n_splits=4)\n",
    "kf.get_n_splits(sentence_vectors)\n",
    "for train_index, test_index in kf.split(sentence_vectors):\n",
    "    X_train, X_test = sentence_vectors[train_index], sentence_vectors[test_index]\n",
    "    Y_train, Y_test = labels[train_index], labels[test_index]\n",
    "    S_train, S_test = idx_matriz[train_index], idx_matriz[test_index]\n",
    "print(X_train.shape)\n",
    "print(Y_train.shape)\n",
    "print(X_test.shape)\n",
    "print(Y_test.shape)\n",
    "print(S_train.shape)\n",
    "print(S_test.shape)"
   ]
  },
  {
   "cell_type": "markdown",
   "metadata": {},
   "source": [
    "PBR"
   ]
  },
  {
   "cell_type": "code",
   "execution_count": 39,
   "metadata": {},
   "outputs": [],
   "source": [
    "def csa (X,Y,XT):\n",
    "    num_docs = X.shape[0] # number of trainning docs\n",
    "    num_terms = X.shape[1]\n",
    "    num_class = 2\n",
    "    TR = np.zeros((num_terms, num_class))\n",
    "    DL = np.sum(X, axis=1) # sum each elemet row, wich is each df element of a document\n",
    "    DL[DL == 0] = 1 #Those documents with not terms in dicc, are empty .\n",
    "   \n",
    "    # Non - Normalization 0'\n",
    "    for j in range (0,num_class): # j = [0;1]\n",
    "        docs = np.where(Y == j)[0] \n",
    "        for i in range(0,num_terms):\n",
    "            tf_v = X[docs,i] # tf_v is tern frecuency of each term\n",
    "            TR[i][j] = sum(np.log2(1 + tf_v / DL [docs]))            \n",
    "    print(\"PRB: (\",TR.shape[0],\",\",TR.shape[1],\")\")\n",
    "\n",
    "    # Normalization 1' Sum all the weights vectors \n",
    "    n1 = np.sum(TR, axis = 0) #Sum by colum\n",
    "    n1[n1 == 0] = 1\n",
    "    Tik = TR / n1\n",
    "\n",
    "    # Normalization 2' Each componet of tik [ti1,ti2]/ [ti1+ti2;ti1+ti2]\n",
    "    for i in range(0,num_terms):\n",
    "        suma = sum(Tik[i])\n",
    "        if suma == 0:\n",
    "            suma = 1\n",
    "        Tik[i] = Tik[i] / suma # Tik[i] = Tik[i] / sum(TR[i])\n",
    "\n",
    "    print(\"Tik: (\",Tik.shape[0],\",\",Tik.shape[1],\")\")\n",
    "    \n",
    "    # Document Representation\n",
    "    DR = np.zeros((num_docs, num_class))\n",
    "    for i in range(0,num_docs):\n",
    "        termos = np.where(X[i] != 0)[0] # extrac idxs =! 0\n",
    "        a = X[i][termos] / DL[i]# acces idxs content / len\n",
    "        a = np.expand_dims(a, axis=1)\n",
    "        DR[i] = sum(np.multiply(a,Tik[termos])) # alpha * tik; alpha is the df of each term\n",
    "    # Some of then are empy sentence_vectors[i]  examp 8825 \"Nadie se salva de la regla 34 xd\"    return Tik\n",
    "    \n",
    "    # Document Test Representation\n",
    "    DLT = np.sum(XT, axis=1)\n",
    "    DLT[DLT == 0] = 1\n",
    "    num_docs = XT.shape[0]\n",
    "    DRT = np.zeros((num_docs, num_class))\n",
    "    for i in range(0,num_docs):\n",
    "        termos = np.where(X_test[i] != 0)[0] \n",
    "        a = XT[i][termos] / DLT[i]\n",
    "        a = np.expand_dims(a, axis=1)\n",
    "        DRT[i] = sum(np.multiply(a,Tik[termos]))\n",
    "\n",
    "    return DR,DRT"
   ]
  },
  {
   "cell_type": "code",
   "execution_count": 40,
   "metadata": {},
   "outputs": [
    {
     "name": "stdout",
     "output_type": "stream",
     "text": [
      "PRB: ( 4110 , 2 )\n",
      "Tik: ( 4110 , 2 )\n",
      "DR: ( 6622 , 2 )\n"
     ]
    }
   ],
   "source": [
    "DR,DRT = csa (X_train,Y_train,X_test)\n",
    "print(\"DR: (\",DR.shape[0],\",\",DR.shape[1],\")\")"
   ]
  },
  {
   "cell_type": "code",
   "execution_count": 41,
   "metadata": {},
   "outputs": [],
   "source": [
    "#for i in DRT:\n",
    "#    print(i)"
   ]
  },
  {
   "cell_type": "code",
   "execution_count": 42,
   "metadata": {},
   "outputs": [
    {
     "name": "stdout",
     "output_type": "stream",
     "text": [
      "_________________________________________________________________\n",
      "Layer (type)                 Output Shape              Param #   \n",
      "=================================================================\n",
      "dense_3 (Dense)              (None, 10)                30        \n",
      "_________________________________________________________________\n",
      "dense_4 (Dense)              (None, 1)                 11        \n",
      "=================================================================\n",
      "Total params: 41\n",
      "Trainable params: 41\n",
      "Non-trainable params: 0\n",
      "_________________________________________________________________\n",
      "None\n"
     ]
    }
   ],
   "source": [
    "# Create NN model\n",
    "num_class = 2\n",
    "model = Sequential()\n",
    "# Add model layers\n",
    "model.add(Dense(10, activation='relu', input_shape=(num_class,)))\n",
    "model.add(Dense(1, activation='sigmoid'))\n",
    "print(model.summary())"
   ]
  },
  {
   "cell_type": "code",
   "execution_count": 43,
   "metadata": {},
   "outputs": [],
   "source": [
    "opt = keras.optimizers.SGD(decay=1e-14)\n",
    "model.compile(loss='binary_crossentropy', optimizer=opt, metrics=['accuracy'])"
   ]
  },
  {
   "cell_type": "code",
   "execution_count": 44,
   "metadata": {},
   "outputs": [
    {
     "name": "stdout",
     "output_type": "stream",
     "text": [
      "Train on 6622 samples, validate on 2207 samples\n",
      "Epoch 1/100\n",
      "6622/6622 [==============================] - 2s 337us/step - loss: 0.6589 - acc: 0.6201 - val_loss: 0.5915 - val_acc: 0.7349\n",
      "Epoch 2/100\n",
      "6622/6622 [==============================] - 1s 158us/step - loss: 0.6275 - acc: 0.6626 - val_loss: 0.5810 - val_acc: 0.7349\n",
      "Epoch 3/100\n",
      "6622/6622 [==============================] - 1s 153us/step - loss: 0.6159 - acc: 0.6626 - val_loss: 0.5701 - val_acc: 0.7349\n",
      "Epoch 4/100\n",
      "6622/6622 [==============================] - 1s 159us/step - loss: 0.5980 - acc: 0.6632 - val_loss: 0.5571 - val_acc: 0.7367\n",
      "Epoch 5/100\n",
      "6622/6622 [==============================] - 1s 168us/step - loss: 0.5721 - acc: 0.6753 - val_loss: 0.5396 - val_acc: 0.7599\n",
      "Epoch 6/100\n",
      "6622/6622 [==============================] - 1s 166us/step - loss: 0.5379 - acc: 0.7194 - val_loss: 0.5103 - val_acc: 0.7685\n",
      "Epoch 7/100\n",
      "6622/6622 [==============================] - 1s 155us/step - loss: 0.4988 - acc: 0.7703 - val_loss: 0.4766 - val_acc: 0.7739\n",
      "Epoch 8/100\n",
      "6622/6622 [==============================] - 1s 156us/step - loss: 0.4611 - acc: 0.7993 - val_loss: 0.4584 - val_acc: 0.8002\n",
      "Epoch 9/100\n",
      "6622/6622 [==============================] - 1s 157us/step - loss: 0.4289 - acc: 0.8189 - val_loss: 0.4355 - val_acc: 0.8011\n",
      "Epoch 10/100\n",
      "6622/6622 [==============================] - 1s 162us/step - loss: 0.4031 - acc: 0.8307 - val_loss: 0.4249 - val_acc: 0.8115\n",
      "Epoch 11/100\n",
      "6622/6622 [==============================] - 1s 180us/step - loss: 0.3836 - acc: 0.8343 - val_loss: 0.4145 - val_acc: 0.8101\n",
      "Epoch 12/100\n",
      "6622/6622 [==============================] - 1s 164us/step - loss: 0.3701 - acc: 0.8392 - val_loss: 0.4124 - val_acc: 0.8215\n",
      "Epoch 13/100\n",
      "6622/6622 [==============================] - 1s 168us/step - loss: 0.3602 - acc: 0.8425 - val_loss: 0.4090 - val_acc: 0.8210\n",
      "Epoch 14/100\n",
      "6622/6622 [==============================] - 1s 170us/step - loss: 0.3532 - acc: 0.8436 - val_loss: 0.4074 - val_acc: 0.8188\n",
      "Epoch 15/100\n",
      "6622/6622 [==============================] - 1s 180us/step - loss: 0.3485 - acc: 0.8440 - val_loss: 0.4094 - val_acc: 0.8210\n",
      "Epoch 16/100\n",
      "6622/6622 [==============================] - 1s 174us/step - loss: 0.3443 - acc: 0.8478 - val_loss: 0.4091 - val_acc: 0.8210\n",
      "Epoch 17/100\n",
      "6622/6622 [==============================] - 1s 163us/step - loss: 0.3420 - acc: 0.8478 - val_loss: 0.4104 - val_acc: 0.8188\n",
      "Epoch 18/100\n",
      "6622/6622 [==============================] - 1s 166us/step - loss: 0.3407 - acc: 0.8485 - val_loss: 0.4114 - val_acc: 0.8179\n",
      "Epoch 19/100\n",
      "6622/6622 [==============================] - 1s 165us/step - loss: 0.3394 - acc: 0.8470 - val_loss: 0.4117 - val_acc: 0.8224\n",
      "Epoch 20/100\n",
      "6622/6622 [==============================] - 1s 177us/step - loss: 0.3385 - acc: 0.8491 - val_loss: 0.4134 - val_acc: 0.8188\n",
      "Epoch 21/100\n",
      "6622/6622 [==============================] - 1s 179us/step - loss: 0.3379 - acc: 0.8496 - val_loss: 0.4144 - val_acc: 0.8210\n",
      "Epoch 22/100\n",
      "6622/6622 [==============================] - 1s 191us/step - loss: 0.3374 - acc: 0.8466 - val_loss: 0.4156 - val_acc: 0.8179\n",
      "Epoch 23/100\n",
      "6622/6622 [==============================] - 1s 169us/step - loss: 0.3372 - acc: 0.8484 - val_loss: 0.4160 - val_acc: 0.8224\n",
      "Epoch 24/100\n",
      "6622/6622 [==============================] - 1s 168us/step - loss: 0.3365 - acc: 0.8475 - val_loss: 0.4165 - val_acc: 0.8210\n",
      "Epoch 25/100\n",
      "6622/6622 [==============================] - 1s 154us/step - loss: 0.3361 - acc: 0.8510 - val_loss: 0.4172 - val_acc: 0.8197\n",
      "Epoch 26/100\n",
      "6622/6622 [==============================] - 1s 156us/step - loss: 0.3365 - acc: 0.8493 - val_loss: 0.4182 - val_acc: 0.8183\n",
      "Epoch 27/100\n",
      "6622/6622 [==============================] - 1s 161us/step - loss: 0.3363 - acc: 0.8490 - val_loss: 0.4222 - val_acc: 0.8188\n",
      "Epoch 28/100\n",
      "6622/6622 [==============================] - 1s 161us/step - loss: 0.3363 - acc: 0.8497 - val_loss: 0.4188 - val_acc: 0.8188\n",
      "Epoch 29/100\n",
      "6622/6622 [==============================] - 1s 161us/step - loss: 0.3365 - acc: 0.8482 - val_loss: 0.4213 - val_acc: 0.8219\n",
      "Epoch 30/100\n",
      "6622/6622 [==============================] - 1s 160us/step - loss: 0.3359 - acc: 0.8469 - val_loss: 0.4196 - val_acc: 0.8192\n",
      "Epoch 31/100\n",
      "6622/6622 [==============================] - 1s 157us/step - loss: 0.3361 - acc: 0.8469 - val_loss: 0.4201 - val_acc: 0.8219\n",
      "Epoch 32/100\n",
      "6622/6622 [==============================] - 1s 158us/step - loss: 0.3359 - acc: 0.8472 - val_loss: 0.4235 - val_acc: 0.8192\n",
      "Epoch 33/100\n",
      "6622/6622 [==============================] - 1s 159us/step - loss: 0.3351 - acc: 0.8491 - val_loss: 0.4208 - val_acc: 0.8174\n",
      "Epoch 34/100\n",
      "6622/6622 [==============================] - 1s 157us/step - loss: 0.3353 - acc: 0.8482 - val_loss: 0.4217 - val_acc: 0.8219\n",
      "Epoch 35/100\n",
      "6622/6622 [==============================] - 1s 160us/step - loss: 0.3359 - acc: 0.8481 - val_loss: 0.4210 - val_acc: 0.8188\n",
      "Epoch 36/100\n",
      "6622/6622 [==============================] - 1s 161us/step - loss: 0.3361 - acc: 0.8500 - val_loss: 0.4226 - val_acc: 0.8210\n",
      "Epoch 37/100\n",
      "6622/6622 [==============================] - 1s 160us/step - loss: 0.3354 - acc: 0.8461 - val_loss: 0.4216 - val_acc: 0.8224\n",
      "Epoch 38/100\n",
      "6622/6622 [==============================] - 1s 160us/step - loss: 0.3357 - acc: 0.8472 - val_loss: 0.4236 - val_acc: 0.8197\n",
      "Epoch 39/100\n",
      "6622/6622 [==============================] - 1s 158us/step - loss: 0.3357 - acc: 0.8469 - val_loss: 0.4220 - val_acc: 0.8224\n",
      "Epoch 40/100\n",
      "6622/6622 [==============================] - 1s 157us/step - loss: 0.3361 - acc: 0.8490 - val_loss: 0.4219 - val_acc: 0.8219\n",
      "Epoch 41/100\n",
      "6622/6622 [==============================] - 1s 155us/step - loss: 0.3355 - acc: 0.8475 - val_loss: 0.4227 - val_acc: 0.8192\n",
      "Epoch 42/100\n",
      "6622/6622 [==============================] - 1s 156us/step - loss: 0.3355 - acc: 0.8516 - val_loss: 0.4240 - val_acc: 0.8192\n",
      "Epoch 43/100\n",
      "6622/6622 [==============================] - 1s 163us/step - loss: 0.3353 - acc: 0.8484 - val_loss: 0.4233 - val_acc: 0.8215\n",
      "Epoch 44/100\n",
      "6622/6622 [==============================] - 1s 165us/step - loss: 0.3356 - acc: 0.8490 - val_loss: 0.4220 - val_acc: 0.8197\n",
      "Epoch 45/100\n",
      "6622/6622 [==============================] - 1s 158us/step - loss: 0.3356 - acc: 0.8491 - val_loss: 0.4251 - val_acc: 0.8210\n",
      "Epoch 46/100\n",
      "6622/6622 [==============================] - 1s 163us/step - loss: 0.3359 - acc: 0.8500 - val_loss: 0.4221 - val_acc: 0.8188\n",
      "Epoch 47/100\n",
      "6622/6622 [==============================] - 1s 156us/step - loss: 0.3357 - acc: 0.8475 - val_loss: 0.4250 - val_acc: 0.8210\n",
      "Epoch 48/100\n",
      "6622/6622 [==============================] - 1s 155us/step - loss: 0.3357 - acc: 0.8484 - val_loss: 0.4233 - val_acc: 0.8192\n",
      "Epoch 49/100\n",
      "6622/6622 [==============================] - 1s 154us/step - loss: 0.3356 - acc: 0.8484 - val_loss: 0.4228 - val_acc: 0.8192\n",
      "Epoch 50/100\n",
      "6622/6622 [==============================] - 1s 156us/step - loss: 0.3354 - acc: 0.8463 - val_loss: 0.4239 - val_acc: 0.8210\n",
      "Epoch 51/100\n",
      "6622/6622 [==============================] - 1s 155us/step - loss: 0.3351 - acc: 0.8478 - val_loss: 0.4242 - val_acc: 0.8210\n",
      "Epoch 52/100\n",
      "6622/6622 [==============================] - 1s 156us/step - loss: 0.3356 - acc: 0.8497 - val_loss: 0.4227 - val_acc: 0.8224\n",
      "Epoch 53/100\n",
      "6622/6622 [==============================] - 1s 155us/step - loss: 0.3356 - acc: 0.8493 - val_loss: 0.4226 - val_acc: 0.8179\n",
      "Epoch 54/100\n",
      "6622/6622 [==============================] - 1s 153us/step - loss: 0.3354 - acc: 0.8476 - val_loss: 0.4227 - val_acc: 0.8192\n",
      "Epoch 55/100\n",
      "6622/6622 [==============================] - 1s 153us/step - loss: 0.3358 - acc: 0.8481 - val_loss: 0.4225 - val_acc: 0.8188\n",
      "Epoch 56/100\n",
      "6622/6622 [==============================] - 1s 153us/step - loss: 0.3355 - acc: 0.8476 - val_loss: 0.4252 - val_acc: 0.8219\n",
      "Epoch 57/100\n",
      "6622/6622 [==============================] - 1s 152us/step - loss: 0.3354 - acc: 0.8488 - val_loss: 0.4281 - val_acc: 0.8183\n",
      "Epoch 58/100\n",
      "6622/6622 [==============================] - 1s 157us/step - loss: 0.3353 - acc: 0.8494 - val_loss: 0.4229 - val_acc: 0.8224\n",
      "Epoch 59/100\n",
      "6622/6622 [==============================] - 1s 158us/step - loss: 0.3357 - acc: 0.8472 - val_loss: 0.4229 - val_acc: 0.8224\n",
      "Epoch 60/100\n"
     ]
    },
    {
     "name": "stdout",
     "output_type": "stream",
     "text": [
      "6622/6622 [==============================] - 1s 153us/step - loss: 0.3358 - acc: 0.8487 - val_loss: 0.4244 - val_acc: 0.8210\n",
      "Epoch 61/100\n",
      "6622/6622 [==============================] - 1s 176us/step - loss: 0.3356 - acc: 0.8493 - val_loss: 0.4239 - val_acc: 0.8206\n",
      "Epoch 62/100\n",
      "6622/6622 [==============================] - 1s 181us/step - loss: 0.3356 - acc: 0.8499 - val_loss: 0.4227 - val_acc: 0.8183\n",
      "Epoch 63/100\n",
      "6622/6622 [==============================] - 1s 160us/step - loss: 0.3358 - acc: 0.8478 - val_loss: 0.4229 - val_acc: 0.8197\n",
      "Epoch 64/100\n",
      "6622/6622 [==============================] - 1s 162us/step - loss: 0.3354 - acc: 0.8481 - val_loss: 0.4233 - val_acc: 0.8188\n",
      "Epoch 65/100\n",
      "6622/6622 [==============================] - 1s 158us/step - loss: 0.3349 - acc: 0.8506 - val_loss: 0.4236 - val_acc: 0.8228\n",
      "Epoch 66/100\n",
      "6622/6622 [==============================] - 1s 159us/step - loss: 0.3357 - acc: 0.8487 - val_loss: 0.4232 - val_acc: 0.8224\n",
      "Epoch 67/100\n",
      "6622/6622 [==============================] - 1s 161us/step - loss: 0.3353 - acc: 0.8476 - val_loss: 0.4227 - val_acc: 0.8192\n",
      "Epoch 68/100\n",
      "6622/6622 [==============================] - 1s 159us/step - loss: 0.3356 - acc: 0.8494 - val_loss: 0.4230 - val_acc: 0.8219\n",
      "Epoch 69/100\n",
      "6622/6622 [==============================] - 1s 156us/step - loss: 0.3357 - acc: 0.8464 - val_loss: 0.4228 - val_acc: 0.8210\n",
      "Epoch 70/100\n",
      "6622/6622 [==============================] - 1s 157us/step - loss: 0.3351 - acc: 0.8493 - val_loss: 0.4230 - val_acc: 0.8219\n",
      "Epoch 71/100\n",
      "6622/6622 [==============================] - 1s 156us/step - loss: 0.3358 - acc: 0.8506 - val_loss: 0.4228 - val_acc: 0.8188\n",
      "Epoch 72/100\n",
      "6622/6622 [==============================] - 1s 155us/step - loss: 0.3351 - acc: 0.8472 - val_loss: 0.4228 - val_acc: 0.8210\n",
      "Epoch 73/100\n",
      "6622/6622 [==============================] - 1s 153us/step - loss: 0.3356 - acc: 0.8473 - val_loss: 0.4240 - val_acc: 0.8215\n",
      "Epoch 74/100\n",
      "6622/6622 [==============================] - 1s 156us/step - loss: 0.3351 - acc: 0.8494 - val_loss: 0.4294 - val_acc: 0.8156\n",
      "Epoch 75/100\n",
      "6622/6622 [==============================] - 1s 155us/step - loss: 0.3356 - acc: 0.8496 - val_loss: 0.4229 - val_acc: 0.8210\n",
      "Epoch 76/100\n",
      "6622/6622 [==============================] - 1s 154us/step - loss: 0.3357 - acc: 0.8472 - val_loss: 0.4229 - val_acc: 0.8179\n",
      "Epoch 77/100\n",
      "6622/6622 [==============================] - 1s 161us/step - loss: 0.3350 - acc: 0.8487 - val_loss: 0.4232 - val_acc: 0.8219\n",
      "Epoch 78/100\n",
      "6622/6622 [==============================] - 1s 156us/step - loss: 0.3351 - acc: 0.8493 - val_loss: 0.4234 - val_acc: 0.8197\n",
      "Epoch 79/100\n",
      "6622/6622 [==============================] - 1s 156us/step - loss: 0.3355 - acc: 0.8488 - val_loss: 0.4232 - val_acc: 0.8219\n",
      "Epoch 80/100\n",
      "6622/6622 [==============================] - 1s 158us/step - loss: 0.3356 - acc: 0.8496 - val_loss: 0.4228 - val_acc: 0.8188\n",
      "Epoch 81/100\n",
      "6622/6622 [==============================] - 1s 157us/step - loss: 0.3355 - acc: 0.8470 - val_loss: 0.4230 - val_acc: 0.8188\n",
      "Epoch 82/100\n",
      "6622/6622 [==============================] - 1s 161us/step - loss: 0.3354 - acc: 0.8475 - val_loss: 0.4230 - val_acc: 0.8210\n",
      "Epoch 83/100\n",
      "6622/6622 [==============================] - 1s 161us/step - loss: 0.3349 - acc: 0.8478 - val_loss: 0.4229 - val_acc: 0.8188\n",
      "Epoch 84/100\n",
      "6622/6622 [==============================] - 1s 158us/step - loss: 0.3356 - acc: 0.8500 - val_loss: 0.4266 - val_acc: 0.8174\n",
      "Epoch 85/100\n",
      "6622/6622 [==============================] - 1s 158us/step - loss: 0.3351 - acc: 0.8510 - val_loss: 0.4232 - val_acc: 0.8197\n",
      "Epoch 86/100\n",
      "6622/6622 [==============================] - 1s 157us/step - loss: 0.3353 - acc: 0.8496 - val_loss: 0.4233 - val_acc: 0.8192\n",
      "Epoch 87/100\n",
      "6622/6622 [==============================] - 1s 158us/step - loss: 0.3352 - acc: 0.8481 - val_loss: 0.4288 - val_acc: 0.8179\n",
      "Epoch 88/100\n",
      "6622/6622 [==============================] - 1s 159us/step - loss: 0.3359 - acc: 0.8473 - val_loss: 0.4246 - val_acc: 0.8210\n",
      "Epoch 89/100\n",
      "6622/6622 [==============================] - 1s 159us/step - loss: 0.3354 - acc: 0.8461 - val_loss: 0.4232 - val_acc: 0.8210\n",
      "Epoch 90/100\n",
      "6622/6622 [==============================] - 1s 159us/step - loss: 0.3356 - acc: 0.8491 - val_loss: 0.4232 - val_acc: 0.8210\n",
      "Epoch 91/100\n",
      "6622/6622 [==============================] - 1s 161us/step - loss: 0.3356 - acc: 0.8496 - val_loss: 0.4244 - val_acc: 0.8210\n",
      "Epoch 92/100\n",
      "6622/6622 [==============================] - 1s 165us/step - loss: 0.3355 - acc: 0.8497 - val_loss: 0.4260 - val_acc: 0.8210\n",
      "Epoch 93/100\n",
      "6622/6622 [==============================] - 1s 169us/step - loss: 0.3356 - acc: 0.8481 - val_loss: 0.4231 - val_acc: 0.8206\n",
      "Epoch 94/100\n",
      "6622/6622 [==============================] - 1s 171us/step - loss: 0.3356 - acc: 0.8482 - val_loss: 0.4241 - val_acc: 0.8224\n",
      "Epoch 95/100\n",
      "6622/6622 [==============================] - 1s 167us/step - loss: 0.3355 - acc: 0.8479 - val_loss: 0.4239 - val_acc: 0.8224\n",
      "Epoch 96/100\n",
      "6622/6622 [==============================] - 1s 169us/step - loss: 0.3353 - acc: 0.8485 - val_loss: 0.4229 - val_acc: 0.8188\n",
      "Epoch 97/100\n",
      "6622/6622 [==============================] - 1s 170us/step - loss: 0.3355 - acc: 0.8485 - val_loss: 0.4239 - val_acc: 0.8228\n",
      "Epoch 98/100\n",
      "6622/6622 [==============================] - 1s 170us/step - loss: 0.3353 - acc: 0.8481 - val_loss: 0.4231 - val_acc: 0.8215\n",
      "Epoch 99/100\n",
      "6622/6622 [==============================] - 1s 167us/step - loss: 0.3354 - acc: 0.8478 - val_loss: 0.4243 - val_acc: 0.8210\n",
      "Epoch 100/100\n",
      "6622/6622 [==============================] - 1s 157us/step - loss: 0.3354 - acc: 0.8487 - val_loss: 0.4253 - val_acc: 0.8210\n"
     ]
    },
    {
     "data": {
      "text/plain": [
       "<keras.callbacks.History at 0x226b1b63948>"
      ]
     },
     "execution_count": 44,
     "metadata": {},
     "output_type": "execute_result"
    }
   ],
   "source": [
    "model.fit(DR, Y_train, epochs=100, batch_size=10, validation_data=(DRT, Y_test))"
   ]
  },
  {
   "cell_type": "code",
   "execution_count": 51,
   "metadata": {},
   "outputs": [
    {
     "name": "stdout",
     "output_type": "stream",
     "text": [
      "----------------------------------------  0  ---------------------------------------------\n",
      "PRB: ( 4110 , 2 )\n",
      "Tik: ( 4110 , 2 )\n",
      "(6622, 2)\n",
      "(2207, 2)\n",
      "Train on 6622 samples, validate on 2207 samples\n",
      "Epoch 1/30\n",
      "6622/6622 [==============================] - 1s 162us/step - loss: 0.3249 - acc: 0.8487 - val_loss: 0.5904 - val_acc: 0.7349\n",
      "Epoch 2/30\n",
      "6622/6622 [==============================] - 1s 154us/step - loss: 0.3248 - acc: 0.8503 - val_loss: 0.6017 - val_acc: 0.7349\n",
      "Epoch 3/30\n",
      "6622/6622 [==============================] - 1s 161us/step - loss: 0.3248 - acc: 0.8469 - val_loss: 0.5824 - val_acc: 0.7349\n",
      "Epoch 4/30\n",
      "6622/6622 [==============================] - 1s 182us/step - loss: 0.3243 - acc: 0.8487 - val_loss: 0.5972 - val_acc: 0.7349\n",
      "Epoch 5/30\n",
      "6622/6622 [==============================] - 1s 170us/step - loss: 0.3250 - acc: 0.8476 - val_loss: 0.5846 - val_acc: 0.7349\n",
      "Epoch 6/30\n",
      "6622/6622 [==============================] - 1s 151us/step - loss: 0.3245 - acc: 0.8487 - val_loss: 0.5844 - val_acc: 0.7349\n",
      "Epoch 7/30\n",
      "6622/6622 [==============================] - 1s 150us/step - loss: 0.3251 - acc: 0.8485 - val_loss: 0.5817 - val_acc: 0.7349\n",
      "Epoch 8/30\n",
      "6622/6622 [==============================] - 1s 162us/step - loss: 0.3250 - acc: 0.8452 - val_loss: 0.5878 - val_acc: 0.7349\n",
      "Epoch 9/30\n",
      "6622/6622 [==============================] - 1s 174us/step - loss: 0.3251 - acc: 0.8464 - val_loss: 0.5906 - val_acc: 0.7349\n",
      "Epoch 10/30\n",
      "6622/6622 [==============================] - 1s 153us/step - loss: 0.3246 - acc: 0.8484 - val_loss: 0.5880 - val_acc: 0.7349\n",
      "Epoch 11/30\n",
      "6622/6622 [==============================] - 1s 164us/step - loss: 0.3248 - acc: 0.8479 - val_loss: 0.5790 - val_acc: 0.7349\n",
      "Epoch 12/30\n",
      "6622/6622 [==============================] - 1s 187us/step - loss: 0.3248 - acc: 0.8493 - val_loss: 0.6024 - val_acc: 0.7349\n",
      "Epoch 13/30\n",
      "6622/6622 [==============================] - 1s 160us/step - loss: 0.3252 - acc: 0.8455 - val_loss: 0.5965 - val_acc: 0.7349\n",
      "Epoch 14/30\n",
      "6622/6622 [==============================] - 1s 153us/step - loss: 0.3249 - acc: 0.8487 - val_loss: 0.5954 - val_acc: 0.7349\n",
      "Epoch 15/30\n",
      "6622/6622 [==============================] - 1s 161us/step - loss: 0.3249 - acc: 0.8482 - val_loss: 0.5911 - val_acc: 0.7349\n",
      "Epoch 16/30\n",
      "6622/6622 [==============================] - 1s 158us/step - loss: 0.3246 - acc: 0.8481 - val_loss: 0.5912 - val_acc: 0.7349\n",
      "Epoch 17/30\n",
      "6622/6622 [==============================] - 1s 154us/step - loss: 0.3248 - acc: 0.8476 - val_loss: 0.5899 - val_acc: 0.7349\n",
      "Epoch 18/30\n",
      "6622/6622 [==============================] - 1s 155us/step - loss: 0.3252 - acc: 0.8469 - val_loss: 0.5846 - val_acc: 0.7349\n",
      "Epoch 19/30\n",
      "6622/6622 [==============================] - 1s 153us/step - loss: 0.3244 - acc: 0.8506 - val_loss: 0.5891 - val_acc: 0.7349\n",
      "Epoch 20/30\n",
      "6622/6622 [==============================] - 1s 176us/step - loss: 0.3245 - acc: 0.8510 - val_loss: 0.6059 - val_acc: 0.7349\n",
      "Epoch 21/30\n",
      "6622/6622 [==============================] - 1s 171us/step - loss: 0.3250 - acc: 0.8470 - val_loss: 0.5863 - val_acc: 0.7349\n",
      "Epoch 22/30\n",
      "6622/6622 [==============================] - 1s 158us/step - loss: 0.3244 - acc: 0.8491 - val_loss: 0.6021 - val_acc: 0.7349\n",
      "Epoch 23/30\n",
      "6622/6622 [==============================] - 1s 153us/step - loss: 0.3251 - acc: 0.8478 - val_loss: 0.5880 - val_acc: 0.7349\n",
      "Epoch 24/30\n",
      "6622/6622 [==============================] - 1s 169us/step - loss: 0.3252 - acc: 0.8470 - val_loss: 0.5809 - val_acc: 0.7349\n",
      "Epoch 25/30\n",
      "6622/6622 [==============================] - 1s 164us/step - loss: 0.3245 - acc: 0.8469 - val_loss: 0.5868 - val_acc: 0.7349\n",
      "Epoch 26/30\n",
      "6622/6622 [==============================] - 1s 171us/step - loss: 0.3248 - acc: 0.8449 - val_loss: 0.5858 - val_acc: 0.7349\n",
      "Epoch 27/30\n",
      "6622/6622 [==============================] - 1s 167us/step - loss: 0.3252 - acc: 0.8458 - val_loss: 0.5933 - val_acc: 0.7349\n",
      "Epoch 28/30\n",
      "6622/6622 [==============================] - 1s 150us/step - loss: 0.3253 - acc: 0.8488 - val_loss: 0.5843 - val_acc: 0.7349\n",
      "Epoch 29/30\n",
      "6622/6622 [==============================] - 1s 148us/step - loss: 0.3248 - acc: 0.8467 - val_loss: 0.6035 - val_acc: 0.7349\n",
      "Epoch 30/30\n",
      "6622/6622 [==============================] - 1s 149us/step - loss: 0.3254 - acc: 0.8470 - val_loss: 0.5971 - val_acc: 0.7349\n",
      "----------------------------------------  0.05  ---------------------------------------------\n",
      "PRB: ( 4110 , 2 )\n",
      "Tik: ( 4110 , 2 )\n",
      "(6622, 2)\n",
      "(2207, 2)\n",
      "Train on 6622 samples, validate on 2207 samples\n",
      "Epoch 1/30\n",
      "6622/6622 [==============================] - 1s 174us/step - loss: 0.3249 - acc: 0.8482 - val_loss: 0.7811 - val_acc: 0.7100\n",
      "Epoch 2/30\n",
      "6622/6622 [==============================] - 1s 156us/step - loss: 0.3254 - acc: 0.8472 - val_loss: 0.7837 - val_acc: 0.7028\n",
      "Epoch 3/30\n",
      "6622/6622 [==============================] - 1s 148us/step - loss: 0.3243 - acc: 0.8478 - val_loss: 0.7799 - val_acc: 0.7014\n",
      "Epoch 4/30\n",
      "6622/6622 [==============================] - 1s 148us/step - loss: 0.3252 - acc: 0.8455 - val_loss: 0.7845 - val_acc: 0.7136\n",
      "Epoch 5/30\n",
      "6622/6622 [==============================] - 1s 155us/step - loss: 0.3247 - acc: 0.8484 - val_loss: 0.7907 - val_acc: 0.6969\n",
      "Epoch 6/30\n",
      "6622/6622 [==============================] - 1s 147us/step - loss: 0.3247 - acc: 0.8482 - val_loss: 0.7817 - val_acc: 0.7100\n",
      "Epoch 7/30\n",
      "6622/6622 [==============================] - 1s 150us/step - loss: 0.3250 - acc: 0.8493 - val_loss: 0.7803 - val_acc: 0.7023\n",
      "Epoch 8/30\n",
      "6460/6622 [============================>.] - ETA: 0s - loss: 0.3271 - acc: 0.8457"
     ]
    },
    {
     "ename": "KeyboardInterrupt",
     "evalue": "",
     "output_type": "error",
     "traceback": [
      "\u001b[1;31m---------------------------------------------------------------------------\u001b[0m",
      "\u001b[1;31mKeyboardInterrupt\u001b[0m                         Traceback (most recent call last)",
      "\u001b[1;32m<ipython-input-51-f898a475b289>\u001b[0m in \u001b[0;36m<module>\u001b[1;34m\u001b[0m\n\u001b[0;32m     24\u001b[0m     \u001b[0mprint\u001b[0m\u001b[1;33m(\u001b[0m\u001b[0mDRS\u001b[0m\u001b[1;33m.\u001b[0m\u001b[0mshape\u001b[0m\u001b[1;33m)\u001b[0m\u001b[1;33m\u001b[0m\u001b[1;33m\u001b[0m\u001b[0m\n\u001b[0;32m     25\u001b[0m     \u001b[0mprint\u001b[0m\u001b[1;33m(\u001b[0m\u001b[0mDR_TS\u001b[0m\u001b[1;33m.\u001b[0m\u001b[0mshape\u001b[0m\u001b[1;33m)\u001b[0m\u001b[1;33m\u001b[0m\u001b[1;33m\u001b[0m\u001b[0m\n\u001b[1;32m---> 26\u001b[1;33m     \u001b[0mhis\u001b[0m \u001b[1;33m=\u001b[0m \u001b[0mmodel\u001b[0m\u001b[1;33m.\u001b[0m\u001b[0mfit\u001b[0m\u001b[1;33m(\u001b[0m\u001b[0mDRS\u001b[0m\u001b[1;33m,\u001b[0m \u001b[0mY_train\u001b[0m\u001b[1;33m,\u001b[0m \u001b[0mepochs\u001b[0m\u001b[1;33m=\u001b[0m\u001b[1;36m30\u001b[0m\u001b[1;33m,\u001b[0m \u001b[0mbatch_size\u001b[0m\u001b[1;33m=\u001b[0m\u001b[1;36m10\u001b[0m\u001b[1;33m,\u001b[0m \u001b[0mvalidation_data\u001b[0m\u001b[1;33m=\u001b[0m\u001b[1;33m(\u001b[0m\u001b[0mDR_TS\u001b[0m\u001b[1;33m,\u001b[0m \u001b[0mY_test\u001b[0m\u001b[1;33m)\u001b[0m\u001b[1;33m)\u001b[0m\u001b[1;33m\u001b[0m\u001b[1;33m\u001b[0m\u001b[0m\n\u001b[0m\u001b[0;32m     27\u001b[0m     \u001b[1;31m#Xtestv = rXtest\u001b[0m\u001b[1;33m\u001b[0m\u001b[1;33m\u001b[0m\u001b[1;33m\u001b[0m\u001b[0m\n",
      "\u001b[1;32m~\\Anaconda3\\envs\\RendesNeurais\\lib\\site-packages\\keras\\engine\\training.py\u001b[0m in \u001b[0;36mfit\u001b[1;34m(self, x, y, batch_size, epochs, verbose, callbacks, validation_split, validation_data, shuffle, class_weight, sample_weight, initial_epoch, steps_per_epoch, validation_steps, **kwargs)\u001b[0m\n\u001b[0;32m   1037\u001b[0m                                         \u001b[0minitial_epoch\u001b[0m\u001b[1;33m=\u001b[0m\u001b[0minitial_epoch\u001b[0m\u001b[1;33m,\u001b[0m\u001b[1;33m\u001b[0m\u001b[1;33m\u001b[0m\u001b[0m\n\u001b[0;32m   1038\u001b[0m                                         \u001b[0msteps_per_epoch\u001b[0m\u001b[1;33m=\u001b[0m\u001b[0msteps_per_epoch\u001b[0m\u001b[1;33m,\u001b[0m\u001b[1;33m\u001b[0m\u001b[1;33m\u001b[0m\u001b[0m\n\u001b[1;32m-> 1039\u001b[1;33m                                         validation_steps=validation_steps)\n\u001b[0m\u001b[0;32m   1040\u001b[0m \u001b[1;33m\u001b[0m\u001b[0m\n\u001b[0;32m   1041\u001b[0m     def evaluate(self, x=None, y=None,\n",
      "\u001b[1;32m~\\Anaconda3\\envs\\RendesNeurais\\lib\\site-packages\\keras\\engine\\training_arrays.py\u001b[0m in \u001b[0;36mfit_loop\u001b[1;34m(model, f, ins, out_labels, batch_size, epochs, verbose, callbacks, val_f, val_ins, shuffle, callback_metrics, initial_epoch, steps_per_epoch, validation_steps)\u001b[0m\n\u001b[0;32m    202\u001b[0m                     \u001b[0mbatch_logs\u001b[0m\u001b[1;33m[\u001b[0m\u001b[0ml\u001b[0m\u001b[1;33m]\u001b[0m \u001b[1;33m=\u001b[0m \u001b[0mo\u001b[0m\u001b[1;33m\u001b[0m\u001b[1;33m\u001b[0m\u001b[0m\n\u001b[0;32m    203\u001b[0m \u001b[1;33m\u001b[0m\u001b[0m\n\u001b[1;32m--> 204\u001b[1;33m                 \u001b[0mcallbacks\u001b[0m\u001b[1;33m.\u001b[0m\u001b[0mon_batch_end\u001b[0m\u001b[1;33m(\u001b[0m\u001b[0mbatch_index\u001b[0m\u001b[1;33m,\u001b[0m \u001b[0mbatch_logs\u001b[0m\u001b[1;33m)\u001b[0m\u001b[1;33m\u001b[0m\u001b[1;33m\u001b[0m\u001b[0m\n\u001b[0m\u001b[0;32m    205\u001b[0m                 \u001b[1;32mif\u001b[0m \u001b[0mcallback_model\u001b[0m\u001b[1;33m.\u001b[0m\u001b[0mstop_training\u001b[0m\u001b[1;33m:\u001b[0m\u001b[1;33m\u001b[0m\u001b[1;33m\u001b[0m\u001b[0m\n\u001b[0;32m    206\u001b[0m                     \u001b[1;32mbreak\u001b[0m\u001b[1;33m\u001b[0m\u001b[1;33m\u001b[0m\u001b[0m\n",
      "\u001b[1;32m~\\Anaconda3\\envs\\RendesNeurais\\lib\\site-packages\\keras\\callbacks.py\u001b[0m in \u001b[0;36mon_batch_end\u001b[1;34m(self, batch, logs)\u001b[0m\n\u001b[0;32m    113\u001b[0m         \u001b[0mt_before_callbacks\u001b[0m \u001b[1;33m=\u001b[0m \u001b[0mtime\u001b[0m\u001b[1;33m.\u001b[0m\u001b[0mtime\u001b[0m\u001b[1;33m(\u001b[0m\u001b[1;33m)\u001b[0m\u001b[1;33m\u001b[0m\u001b[1;33m\u001b[0m\u001b[0m\n\u001b[0;32m    114\u001b[0m         \u001b[1;32mfor\u001b[0m \u001b[0mcallback\u001b[0m \u001b[1;32min\u001b[0m \u001b[0mself\u001b[0m\u001b[1;33m.\u001b[0m\u001b[0mcallbacks\u001b[0m\u001b[1;33m:\u001b[0m\u001b[1;33m\u001b[0m\u001b[1;33m\u001b[0m\u001b[0m\n\u001b[1;32m--> 115\u001b[1;33m             \u001b[0mcallback\u001b[0m\u001b[1;33m.\u001b[0m\u001b[0mon_batch_end\u001b[0m\u001b[1;33m(\u001b[0m\u001b[0mbatch\u001b[0m\u001b[1;33m,\u001b[0m \u001b[0mlogs\u001b[0m\u001b[1;33m)\u001b[0m\u001b[1;33m\u001b[0m\u001b[1;33m\u001b[0m\u001b[0m\n\u001b[0m\u001b[0;32m    116\u001b[0m         \u001b[0mself\u001b[0m\u001b[1;33m.\u001b[0m\u001b[0m_delta_ts_batch_end\u001b[0m\u001b[1;33m.\u001b[0m\u001b[0mappend\u001b[0m\u001b[1;33m(\u001b[0m\u001b[0mtime\u001b[0m\u001b[1;33m.\u001b[0m\u001b[0mtime\u001b[0m\u001b[1;33m(\u001b[0m\u001b[1;33m)\u001b[0m \u001b[1;33m-\u001b[0m \u001b[0mt_before_callbacks\u001b[0m\u001b[1;33m)\u001b[0m\u001b[1;33m\u001b[0m\u001b[1;33m\u001b[0m\u001b[0m\n\u001b[0;32m    117\u001b[0m         \u001b[0mdelta_t_median\u001b[0m \u001b[1;33m=\u001b[0m \u001b[0mnp\u001b[0m\u001b[1;33m.\u001b[0m\u001b[0mmedian\u001b[0m\u001b[1;33m(\u001b[0m\u001b[0mself\u001b[0m\u001b[1;33m.\u001b[0m\u001b[0m_delta_ts_batch_end\u001b[0m\u001b[1;33m)\u001b[0m\u001b[1;33m\u001b[0m\u001b[1;33m\u001b[0m\u001b[0m\n",
      "\u001b[1;32m~\\Anaconda3\\envs\\RendesNeurais\\lib\\site-packages\\keras\\callbacks.py\u001b[0m in \u001b[0;36mon_batch_end\u001b[1;34m(self, batch, logs)\u001b[0m\n\u001b[0;32m    328\u001b[0m         \u001b[1;31m# will be handled by on_epoch_end.\u001b[0m\u001b[1;33m\u001b[0m\u001b[1;33m\u001b[0m\u001b[1;33m\u001b[0m\u001b[0m\n\u001b[0;32m    329\u001b[0m         \u001b[1;32mif\u001b[0m \u001b[0mself\u001b[0m\u001b[1;33m.\u001b[0m\u001b[0mverbose\u001b[0m \u001b[1;32mand\u001b[0m \u001b[0mself\u001b[0m\u001b[1;33m.\u001b[0m\u001b[0mseen\u001b[0m \u001b[1;33m<\u001b[0m \u001b[0mself\u001b[0m\u001b[1;33m.\u001b[0m\u001b[0mtarget\u001b[0m\u001b[1;33m:\u001b[0m\u001b[1;33m\u001b[0m\u001b[1;33m\u001b[0m\u001b[0m\n\u001b[1;32m--> 330\u001b[1;33m             \u001b[0mself\u001b[0m\u001b[1;33m.\u001b[0m\u001b[0mprogbar\u001b[0m\u001b[1;33m.\u001b[0m\u001b[0mupdate\u001b[0m\u001b[1;33m(\u001b[0m\u001b[0mself\u001b[0m\u001b[1;33m.\u001b[0m\u001b[0mseen\u001b[0m\u001b[1;33m,\u001b[0m \u001b[0mself\u001b[0m\u001b[1;33m.\u001b[0m\u001b[0mlog_values\u001b[0m\u001b[1;33m)\u001b[0m\u001b[1;33m\u001b[0m\u001b[1;33m\u001b[0m\u001b[0m\n\u001b[0m\u001b[0;32m    331\u001b[0m \u001b[1;33m\u001b[0m\u001b[0m\n\u001b[0;32m    332\u001b[0m     \u001b[1;32mdef\u001b[0m \u001b[0mon_epoch_end\u001b[0m\u001b[1;33m(\u001b[0m\u001b[0mself\u001b[0m\u001b[1;33m,\u001b[0m \u001b[0mepoch\u001b[0m\u001b[1;33m,\u001b[0m \u001b[0mlogs\u001b[0m\u001b[1;33m=\u001b[0m\u001b[1;32mNone\u001b[0m\u001b[1;33m)\u001b[0m\u001b[1;33m:\u001b[0m\u001b[1;33m\u001b[0m\u001b[1;33m\u001b[0m\u001b[0m\n",
      "\u001b[1;32m~\\Anaconda3\\envs\\RendesNeurais\\lib\\site-packages\\keras\\utils\\generic_utils.py\u001b[0m in \u001b[0;36mupdate\u001b[1;34m(self, current, values)\u001b[0m\n\u001b[0;32m    422\u001b[0m \u001b[1;33m\u001b[0m\u001b[0m\n\u001b[0;32m    423\u001b[0m             \u001b[0msys\u001b[0m\u001b[1;33m.\u001b[0m\u001b[0mstdout\u001b[0m\u001b[1;33m.\u001b[0m\u001b[0mwrite\u001b[0m\u001b[1;33m(\u001b[0m\u001b[0minfo\u001b[0m\u001b[1;33m)\u001b[0m\u001b[1;33m\u001b[0m\u001b[1;33m\u001b[0m\u001b[0m\n\u001b[1;32m--> 424\u001b[1;33m             \u001b[0msys\u001b[0m\u001b[1;33m.\u001b[0m\u001b[0mstdout\u001b[0m\u001b[1;33m.\u001b[0m\u001b[0mflush\u001b[0m\u001b[1;33m(\u001b[0m\u001b[1;33m)\u001b[0m\u001b[1;33m\u001b[0m\u001b[1;33m\u001b[0m\u001b[0m\n\u001b[0m\u001b[0;32m    425\u001b[0m \u001b[1;33m\u001b[0m\u001b[0m\n\u001b[0;32m    426\u001b[0m         \u001b[1;32melif\u001b[0m \u001b[0mself\u001b[0m\u001b[1;33m.\u001b[0m\u001b[0mverbose\u001b[0m \u001b[1;33m==\u001b[0m \u001b[1;36m2\u001b[0m\u001b[1;33m:\u001b[0m\u001b[1;33m\u001b[0m\u001b[1;33m\u001b[0m\u001b[0m\n",
      "\u001b[1;32m~\\Anaconda3\\envs\\RendesNeurais\\lib\\site-packages\\ipykernel\\iostream.py\u001b[0m in \u001b[0;36mflush\u001b[1;34m(self)\u001b[0m\n\u001b[0;32m    349\u001b[0m                 \u001b[0mself\u001b[0m\u001b[1;33m.\u001b[0m\u001b[0mpub_thread\u001b[0m\u001b[1;33m.\u001b[0m\u001b[0mschedule\u001b[0m\u001b[1;33m(\u001b[0m\u001b[0mevt\u001b[0m\u001b[1;33m.\u001b[0m\u001b[0mset\u001b[0m\u001b[1;33m)\u001b[0m\u001b[1;33m\u001b[0m\u001b[1;33m\u001b[0m\u001b[0m\n\u001b[0;32m    350\u001b[0m                 \u001b[1;31m# and give a timeout to avoid\u001b[0m\u001b[1;33m\u001b[0m\u001b[1;33m\u001b[0m\u001b[1;33m\u001b[0m\u001b[0m\n\u001b[1;32m--> 351\u001b[1;33m                 \u001b[1;32mif\u001b[0m \u001b[1;32mnot\u001b[0m \u001b[0mevt\u001b[0m\u001b[1;33m.\u001b[0m\u001b[0mwait\u001b[0m\u001b[1;33m(\u001b[0m\u001b[0mself\u001b[0m\u001b[1;33m.\u001b[0m\u001b[0mflush_timeout\u001b[0m\u001b[1;33m)\u001b[0m\u001b[1;33m:\u001b[0m\u001b[1;33m\u001b[0m\u001b[1;33m\u001b[0m\u001b[0m\n\u001b[0m\u001b[0;32m    352\u001b[0m                     \u001b[1;31m# write directly to __stderr__ instead of warning because\u001b[0m\u001b[1;33m\u001b[0m\u001b[1;33m\u001b[0m\u001b[1;33m\u001b[0m\u001b[0m\n\u001b[0;32m    353\u001b[0m                     \u001b[1;31m# if this is happening sys.stderr may be the problem.\u001b[0m\u001b[1;33m\u001b[0m\u001b[1;33m\u001b[0m\u001b[1;33m\u001b[0m\u001b[0m\n",
      "\u001b[1;32m~\\Anaconda3\\envs\\RendesNeurais\\lib\\threading.py\u001b[0m in \u001b[0;36mwait\u001b[1;34m(self, timeout)\u001b[0m\n\u001b[0;32m    550\u001b[0m             \u001b[0msignaled\u001b[0m \u001b[1;33m=\u001b[0m \u001b[0mself\u001b[0m\u001b[1;33m.\u001b[0m\u001b[0m_flag\u001b[0m\u001b[1;33m\u001b[0m\u001b[1;33m\u001b[0m\u001b[0m\n\u001b[0;32m    551\u001b[0m             \u001b[1;32mif\u001b[0m \u001b[1;32mnot\u001b[0m \u001b[0msignaled\u001b[0m\u001b[1;33m:\u001b[0m\u001b[1;33m\u001b[0m\u001b[1;33m\u001b[0m\u001b[0m\n\u001b[1;32m--> 552\u001b[1;33m                 \u001b[0msignaled\u001b[0m \u001b[1;33m=\u001b[0m \u001b[0mself\u001b[0m\u001b[1;33m.\u001b[0m\u001b[0m_cond\u001b[0m\u001b[1;33m.\u001b[0m\u001b[0mwait\u001b[0m\u001b[1;33m(\u001b[0m\u001b[0mtimeout\u001b[0m\u001b[1;33m)\u001b[0m\u001b[1;33m\u001b[0m\u001b[1;33m\u001b[0m\u001b[0m\n\u001b[0m\u001b[0;32m    553\u001b[0m             \u001b[1;32mreturn\u001b[0m \u001b[0msignaled\u001b[0m\u001b[1;33m\u001b[0m\u001b[1;33m\u001b[0m\u001b[0m\n\u001b[0;32m    554\u001b[0m \u001b[1;33m\u001b[0m\u001b[0m\n",
      "\u001b[1;32m~\\Anaconda3\\envs\\RendesNeurais\\lib\\threading.py\u001b[0m in \u001b[0;36mwait\u001b[1;34m(self, timeout)\u001b[0m\n\u001b[0;32m    298\u001b[0m             \u001b[1;32melse\u001b[0m\u001b[1;33m:\u001b[0m\u001b[1;33m\u001b[0m\u001b[1;33m\u001b[0m\u001b[0m\n\u001b[0;32m    299\u001b[0m                 \u001b[1;32mif\u001b[0m \u001b[0mtimeout\u001b[0m \u001b[1;33m>\u001b[0m \u001b[1;36m0\u001b[0m\u001b[1;33m:\u001b[0m\u001b[1;33m\u001b[0m\u001b[1;33m\u001b[0m\u001b[0m\n\u001b[1;32m--> 300\u001b[1;33m                     \u001b[0mgotit\u001b[0m \u001b[1;33m=\u001b[0m \u001b[0mwaiter\u001b[0m\u001b[1;33m.\u001b[0m\u001b[0macquire\u001b[0m\u001b[1;33m(\u001b[0m\u001b[1;32mTrue\u001b[0m\u001b[1;33m,\u001b[0m \u001b[0mtimeout\u001b[0m\u001b[1;33m)\u001b[0m\u001b[1;33m\u001b[0m\u001b[1;33m\u001b[0m\u001b[0m\n\u001b[0m\u001b[0;32m    301\u001b[0m                 \u001b[1;32melse\u001b[0m\u001b[1;33m:\u001b[0m\u001b[1;33m\u001b[0m\u001b[1;33m\u001b[0m\u001b[0m\n\u001b[0;32m    302\u001b[0m                     \u001b[0mgotit\u001b[0m \u001b[1;33m=\u001b[0m \u001b[0mwaiter\u001b[0m\u001b[1;33m.\u001b[0m\u001b[0macquire\u001b[0m\u001b[1;33m(\u001b[0m\u001b[1;32mFalse\u001b[0m\u001b[1;33m)\u001b[0m\u001b[1;33m\u001b[0m\u001b[1;33m\u001b[0m\u001b[0m\n",
      "\u001b[1;31mKeyboardInterrupt\u001b[0m: "
     ]
    }
   ],
   "source": [
    "#retains = [0.0100000000000000,0.0600000000000000,0.110000000000000,0.160000000000000,0.210000000000000,0.260000000000000,0.310000000000000,0.360000000000000,0.410000000000000,0.460000000000000,0.510000000000000,0.560000000000000,0.610000000000000,0.660000000000000,0.710000000000000,0.760000000000000,0.810000000000000,0.860000000000000,0.910000000000000,1]\n",
    "#retains = [0.0100000000000000]\n",
    "retains = [0,0.05,0.1,0.15,0.20,0.2,0.30,0.35,0.40,0.45,0.50,0.55,0.60,0.65,0.70,0.75,0.80,0.85,0.90,1]\n",
    "for j in range (0,len(retains)):\n",
    "    print(\"---------------------------------------- \",retains[j],\" ---------------------------------------------\")\n",
    "    rXtest = np.zeros((X_test.shape[0], X_test.shape[1]))\n",
    "    for i in range(0,X_test.shape[0]): # iterating each test document\n",
    "        noz = np.where(S_test[i] != 0)[0] # from our idx (ONLY INDXS) document matriz, extract idx != 0 (this step could be avoid if we do not agregate those 0)\n",
    "        ntermssf = round(len(noz)*retains[j]) # We obtain the number of terns with x% of longitud\n",
    "        myox = 1 # minnum Termos = 1\n",
    "        wdix = 0 # \n",
    "        freqtsof = np.zeros(X_test.shape[1])  \n",
    "        # This vector activate the terms present in the Document until that longitud\n",
    "        while myox <= ntermssf:\n",
    "            if S_test[i,wdix] != 0:\n",
    "                freqtsof[int(S_test[i,wdix])] += 1 #If the same word appears more than once , just add one to the position\n",
    "                myox += 1\n",
    "            wdix += 1\n",
    "        rXtest[i] = freqtsof\n",
    "        \n",
    "    DRS,DR_TS = csa(X_train,Y_train,rXtest)\n",
    "    #DRS = np.nan_to_num(DRS)\n",
    "    #DR_TS = np.nan_to_num(DR_TS)\n",
    "    print(DRS.shape)\n",
    "    print(DR_TS.shape)\n",
    "    his = model.fit(DRS, Y_train, epochs=30, batch_size=10, validation_data=(DR_TS, Y_test))\n",
    "    #Xtestv = rXtest"
   ]
  },
  {
   "cell_type": "code",
   "execution_count": null,
   "metadata": {},
   "outputs": [],
   "source": [
    "X_test.shape"
   ]
  },
  {
   "cell_type": "code",
   "execution_count": null,
   "metadata": {},
   "outputs": [],
   "source": []
  },
  {
   "cell_type": "code",
   "execution_count": null,
   "metadata": {},
   "outputs": [],
   "source": []
  },
  {
   "cell_type": "code",
   "execution_count": null,
   "metadata": {},
   "outputs": [],
   "source": []
  },
  {
   "cell_type": "code",
   "execution_count": null,
   "metadata": {},
   "outputs": [],
   "source": []
  }
 ],
 "metadata": {
  "kernelspec": {
   "display_name": "Python 3",
   "language": "python",
   "name": "python3"
  }
 },
 "nbformat": 4,
 "nbformat_minor": 2
}
